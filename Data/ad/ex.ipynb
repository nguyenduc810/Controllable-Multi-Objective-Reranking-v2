{
 "cells": [
  {
   "cell_type": "code",
   "execution_count": 1,
   "metadata": {},
   "outputs": [
    {
     "name": "stderr",
     "output_type": "stream",
     "text": [
      "2023-11-06 09:07:19.535564: I tensorflow/core/util/port.cc:111] oneDNN custom operations are on. You may see slightly different numerical results due to floating-point round-off errors from different computation orders. To turn them off, set the environment variable `TF_ENABLE_ONEDNN_OPTS=0`.\n",
      "2023-11-06 09:07:19.604529: E tensorflow/compiler/xla/stream_executor/cuda/cuda_dnn.cc:9342] Unable to register cuDNN factory: Attempting to register factory for plugin cuDNN when one has already been registered\n",
      "2023-11-06 09:07:19.604580: E tensorflow/compiler/xla/stream_executor/cuda/cuda_fft.cc:609] Unable to register cuFFT factory: Attempting to register factory for plugin cuFFT when one has already been registered\n",
      "2023-11-06 09:07:19.604623: E tensorflow/compiler/xla/stream_executor/cuda/cuda_blas.cc:1518] Unable to register cuBLAS factory: Attempting to register factory for plugin cuBLAS when one has already been registered\n",
      "2023-11-06 09:07:19.616596: I tensorflow/core/platform/cpu_feature_guard.cc:182] This TensorFlow binary is optimized to use available CPU instructions in performance-critical operations.\n",
      "To enable the following instructions: AVX2 AVX512F AVX512_VNNI FMA, in other operations, rebuild TensorFlow with the appropriate compiler flags.\n"
     ]
    }
   ],
   "source": [
    "import sys \n",
    "  \n",
    "# appending a path \n",
    "sys.path.append('/home/ubuntu/duc.nm195858/Controllable-Multi-Objective-Reranking') \n",
    "\n",
    "import os\n",
    "import pickle as pkl\n",
    "import random\n",
    "from collections import defaultdict\n",
    "import numpy as np\n",
    "import math\n",
    "import json\n",
    "from librerank.utils import save_file"
   ]
  },
  {
   "cell_type": "code",
   "execution_count": 2,
   "metadata": {},
   "outputs": [],
   "source": [
    "raw_sample = '/home/ubuntu/duc.nm195858/Controllable-Multi-Objective-Reranking-v2/Data/ad/raw_data/raw_sample.csv'"
   ]
  },
  {
   "cell_type": "code",
   "execution_count": 9,
   "metadata": {},
   "outputs": [
    {
     "name": "stdout",
     "output_type": "stream",
     "text": [
      "num of records:  26557961 pos vs neg:  0.05422599045209166 user: 1141729\n"
     ]
    }
   ],
   "source": [
    "user_tl = defaultdict(list)\n",
    "behav_tl = defaultdict(list)\n",
    "item_sft = {}\n",
    "item_dft = {}\n",
    "user_prof = {}\n",
    "last_ts = {}\n",
    "uid_set = set()\n",
    "iid_set = set()\n",
    "idx = 0\n",
    "pos = 0\n",
    "First = True\n",
    "with open(raw_sample, 'r') as r:\n",
    "        for line in r:\n",
    "            if First:\n",
    "                First = False\n",
    "                continue\n",
    "            # user ID, timestamp, adgroup_id, ... , clk: 1 for click, 0 for not click\n",
    "            uid, ts, iid, pid, noclk, clk = line.split(',')\n",
    "            d = float(ts)\n",
    "            pos += int(clk)\n",
    "            user_tl[int(uid)].append([d, int(iid), int(clk)])  #{user_1: [[timestamp_1, iid_2, 0], [timestamp, iid, 1]]}\n",
    "            idx += 1\n",
    "print('num of records: ', idx, 'pos vs neg: ', pos / (idx - pos), 'user:', len(user_tl))"
   ]
  },
  {
   "cell_type": "code",
   "execution_count": 12,
   "metadata": {},
   "outputs": [
    {
     "data": {
      "text/plain": [
       "[[1494250392.0, 258454, 0],\n",
       " [1494250392.0, 19024, 0],\n",
       " [1494250392.0, 508794, 1]]"
      ]
     },
     "execution_count": 12,
     "metadata": {},
     "output_type": "execute_result"
    }
   ],
   "source": [
    "user_tl[2]"
   ]
  },
  {
   "cell_type": "code",
   "execution_count": 15,
   "metadata": {},
   "outputs": [
    {
     "name": "stdout",
     "output_type": "stream",
     "text": [
      "filter <= 4: num of user: 430846  num of item:  343437  removed <= 3:  379001 remove all 0 331883 pos per list:  1.1659780989030883\n",
      "max len: 81 min len: 1 average len: 5.593527617756693\n"
     ]
    }
   ],
   "source": [
    "\n",
    "removed_1, removed_2 = 0, 0\n",
    "pos = 0\n",
    "total_len, max_len, min_len = 0, 0, 1e9\n",
    "for uid in user_tl.keys():\n",
    "    tl = user_tl[uid]\n",
    "    # Filter out users with fewer than 3 records.\n",
    "    if len(tl) > 3:\n",
    "        tl = sorted(tl, key=lambda k: k[0], reverse=True)  #sort by timestamp\n",
    "        tl_len = len(tl)\n",
    "        tl = np.array(tl)\n",
    "        if sum(tl[:, 2]) == 0:\n",
    "            removed_2 += 1\n",
    "            continue\n",
    "\n",
    "        # dentify and remove consecutive records with no clicks in a time window of 5 minutes.\n",
    "        si, ei = 0, 1\n",
    "        while si < tl_len:\n",
    "            while ei < tl_len and (tl[si][0] - tl[ei][0] <= 60 * 5):\n",
    "                ei += 1\n",
    "            if sum(tl[si:ei][:, 2]) == 0:\n",
    "                si = ei\n",
    "                ei += 1\n",
    "            else:\n",
    "                break\n",
    "\n",
    "        if si >= tl_len:\n",
    "            print('wrong', si, ei, tl[:, 2])\n",
    "            exit()\n",
    "        total_len += (ei - si)\n",
    "        max_len = max(max_len, ei-si)\n",
    "        min_len = min(min_len, ei-si)\n",
    "\n",
    "        uid_set.add(uid)\n",
    "        remain_tl = tl[si: ei][-30:]\n",
    "\n",
    "        pos += sum(remain_tl[:, 2])\n",
    "        remain_tl = remain_tl.tolist()\n",
    "        remain_tl.reverse()\n",
    "        user_tl[uid] = remain_tl\n",
    "        last_ts[uid] = remain_tl[0][0]\n",
    "        for v in remain_tl:\n",
    "            iid_set.add(v[1])\n",
    "    else:\n",
    "        removed_1 += 1\n",
    "print('filter <= 4: num of user:', len(uid_set), ' num of item: ', len(iid_set), ' removed <= 3: ', removed_1,\n",
    "        'remove all 0', removed_2, 'pos per list: ', pos / len(uid_set))\n",
    "print('max len:', max_len, 'min len:', min_len, 'average len:', total_len / len(uid_set))\n"
   ]
  },
  {
   "cell_type": "code",
   "execution_count": 17,
   "metadata": {},
   "outputs": [
    {
     "data": {
      "text/plain": [
       "[[1494250392.0, 258454, 0],\n",
       " [1494250392.0, 19024, 0],\n",
       " [1494250392.0, 508794, 1]]"
      ]
     },
     "execution_count": 17,
     "metadata": {},
     "output_type": "execute_result"
    }
   ],
   "source": [
    "user_tl[2]"
   ]
  },
  {
   "cell_type": "code",
   "execution_count": 20,
   "metadata": {},
   "outputs": [
    {
     "name": "stdout",
     "output_type": "stream",
     "text": [
      "num of records:  26557961 pos vs neg:  0.05422599045209166 user: 1141729\n",
      "filter < 3: num of user: 483049  num of item:  349404  removed <= 2:  80813 remove all 0 577867 pos per list:  1.163730801637101\n",
      "max len: 81 min len: 1 average len: 5.311055400176794\n"
     ]
    }
   ],
   "source": [
    "user_tl = defaultdict(list)\n",
    "# behav_tl = defaultdict(list)\n",
    "item_sft = {}\n",
    "item_dft = {}\n",
    "user_prof = {}\n",
    "last_ts = {}\n",
    "uid_set = set()\n",
    "iid_set = set()\n",
    "idx = 0\n",
    "pos = 0\n",
    "\n",
    "First = True\n",
    "with open(raw_sample, 'r') as r:\n",
    "    for line in r:\n",
    "        if First:\n",
    "            First = False\n",
    "            continue\n",
    "        uid, ts, iid, pid, noclk, clk = line.split(',')\n",
    "        d = float(ts)\n",
    "        pos += int(clk)\n",
    "        user_tl[int(uid)].append([d, int(iid), int(clk)])\n",
    "        idx += 1\n",
    "print('num of records: ', idx, 'pos vs neg: ', pos / (idx - pos), 'user:', len(user_tl))\n",
    "\n",
    "removed_1, removed_2 = 0, 0\n",
    "pos = 0\n",
    "total_len, max_len, min_len = 0, 0, 1e9\n",
    "for uid in user_tl.keys():\n",
    "    tl = user_tl[uid]\n",
    "    if len(tl) > 2:\n",
    "        tl = sorted(tl, key=lambda k: k[0], reverse=True)\n",
    "        tl_len = len(tl)\n",
    "        tl = np.array(tl)\n",
    "        if sum(tl[:, 2]) == 0:\n",
    "            removed_2 += 1\n",
    "            continue\n",
    "\n",
    "        si, ei = 0, 1\n",
    "        while si < tl_len:\n",
    "            while ei < tl_len and (tl[si][0] - tl[ei][0] <= 60 * 5):\n",
    "                ei += 1\n",
    "            if sum(tl[si:ei][:, 2]) == 0:\n",
    "                si = ei\n",
    "                ei += 1\n",
    "            else:\n",
    "                break\n",
    "\n",
    "        if si >= tl_len:\n",
    "            print('wrong', si, ei, tl[:, 2])\n",
    "            exit()\n",
    "        total_len += (ei - si)\n",
    "        max_len = max(max_len, ei-si)\n",
    "        min_len = min(min_len, ei-si)\n",
    "\n",
    "        uid_set.add(uid)\n",
    "        remain_tl = tl[si: ei][-30:]\n",
    "\n",
    "        pos += sum(remain_tl[:, 2])\n",
    "        remain_tl = remain_tl.tolist()\n",
    "        remain_tl.reverse()\n",
    "        user_tl[uid] = remain_tl\n",
    "        last_ts[uid] = remain_tl[0][0]\n",
    "        for v in remain_tl:\n",
    "            iid_set.add(v[1])\n",
    "    else:\n",
    "        removed_1 += 1\n",
    "print('filter < 3: num of user:', len(uid_set), ' num of item: ', len(iid_set), ' removed <= 2: ', removed_1,\n",
    "        'remove all 0', removed_2, 'pos per list: ', pos / len(uid_set))\n",
    "print('max len:', max_len, 'min len:', min_len, 'average len:', total_len / len(uid_set))"
   ]
  },
  {
   "cell_type": "code",
   "execution_count": 22,
   "metadata": {},
   "outputs": [
    {
     "data": {
      "text/plain": [
       "[[1494250392.0, 508794.0, 1.0],\n",
       " [1494250392.0, 19024.0, 0.0],\n",
       " [1494250392.0, 258454.0, 0.0]]"
      ]
     },
     "execution_count": 22,
     "metadata": {},
     "output_type": "execute_result"
    }
   ],
   "source": [
    "user_tl[2]"
   ]
  },
  {
   "cell_type": "code",
   "execution_count": 23,
   "metadata": {},
   "outputs": [],
   "source": [
    "user_profile = '/home/ubuntu/duc.nm195858/Controllable-Multi-Objective-Reranking-v2/Data/ad/raw_data/user_profile.csv'\n",
    "ad_feature = '/home/ubuntu/duc.nm195858/Controllable-Multi-Objective-Reranking-v2/Data/ad/raw_data/ad_feature.csv'"
   ]
  },
  {
   "cell_type": "code",
   "execution_count": 27,
   "metadata": {},
   "outputs": [
    {
     "name": "stdout",
     "output_type": "stream",
     "text": [
      "finish loading user profile, num profile: 452881\n",
      "finish loading ad feature, num item: 349404\n",
      "profile fnum: 8 itm sparse fnum: 5 itm dense fnum: 1\n",
      "user w/o profile: 30168\n"
     ]
    }
   ],
   "source": [
    "First = True\n",
    "with open(user_profile, 'r') as r:\n",
    "    for line in r:\n",
    "        if First:\n",
    "            First = False\n",
    "            continue\n",
    "        values = line.split(',')\n",
    "        # print(values)\n",
    "        uid = int(values[0])\n",
    "        if uid in uid_set:\n",
    "            user_prof[uid] = values[1:]\n",
    "print('finish loading user profile, num profile:', len(user_prof))\n",
    "# uid_set = set(user_prof.keys())\n",
    "\n",
    "First = True\n",
    "with open(ad_feature, 'r') as r:\n",
    "    for line in r:\n",
    "        if First:\n",
    "            First = False\n",
    "            continue\n",
    "        iid, cate_id, cam_id, cust_id, brand, price = line.split(',')\n",
    "        iid = int(iid)\n",
    "        if iid in iid_set:\n",
    "            item_sft[iid] = [iid, cate_id, cam_id, cust_id, brand]\n",
    "            item_dft[iid] = [eval(price)]\n",
    "print('finish loading ad feature, num item:', len(item_sft))\n",
    "\n",
    "\n",
    "profile_fnum, itm_dens_fnum, itm_spar_fnum= 8, 1, 5\n",
    "print('profile fnum:', profile_fnum, 'itm sparse fnum:', itm_spar_fnum, 'itm dense fnum:', itm_dens_fnum)\n",
    "wo_profile = 0\n",
    "for uid in uid_set:\n",
    "    if not user_prof.__contains__(uid):\n",
    "        user_prof[uid] = ['null' for _ in range(profile_fnum)]\n",
    "        wo_profile += 1\n",
    "print('user w/o profile:', wo_profile)"
   ]
  },
  {
   "cell_type": "code",
   "execution_count": 29,
   "metadata": {},
   "outputs": [],
   "source": [
    "def convert(data, ft_map):\n",
    "    res = []\n",
    "    for i, v in enumerate(data):\n",
    "        res.append(ft_map[i][v])\n",
    "    return res"
   ]
  },
  {
   "cell_type": "code",
   "execution_count": 30,
   "metadata": {},
   "outputs": [
    {
     "name": "stdout",
     "output_type": "stream",
     "text": [
      "total feature 815998\n",
      "user profile\n",
      "98  14  3  8  5  4  3  6  \n",
      "item sparse feature\n",
      "349404  5525  237392  156439  67096  \n"
     ]
    }
   ],
   "source": [
    "uid_map, usr_ft_map, item_ft_map = {}, [{} for _ in range(profile_fnum)], [{} for _ in range(itm_spar_fnum)]\n",
    "ft_idx = 1\n",
    "for iid in iid_set:\n",
    "    itm_ft = item_sft[iid]\n",
    "    for i in range(itm_spar_fnum):\n",
    "        if not item_ft_map[i].__contains__(itm_ft[i]):\n",
    "            item_ft_map[i][itm_ft[i]] = ft_idx\n",
    "            ft_idx += 1\n",
    "for uid in uid_set:\n",
    "    prof = user_prof[uid]\n",
    "    for i in range(profile_fnum):\n",
    "        if not usr_ft_map[i].__contains__(prof[i]):\n",
    "            usr_ft_map[i][prof[i]] = ft_idx\n",
    "            ft_idx += 1\n",
    "\n",
    "print('total feature', ft_idx)\n",
    "print('user profile')\n",
    "for i in range(profile_fnum):\n",
    "    print(len(usr_ft_map[i]), end='  ')\n",
    "print()\n",
    "print('item sparse feature')\n",
    "for i in range(itm_spar_fnum):\n",
    "    print(len(item_ft_map[i]), end='  ')\n",
    "print()\n",
    "\n",
    "\n",
    "# map old feature id to new one\n",
    "res = []\n",
    "for uid in uid_set:\n",
    "    ft_spar, ft_dens, label, profile = [], [], [], []\n",
    "    for d, iid, clk in user_tl[uid]:\n",
    "        ft_spar.append(convert(item_sft[iid], item_ft_map))\n",
    "        ft_dens.append(item_dft[iid])\n",
    "        label.append(clk)\n",
    "    profile.append(convert(user_prof[uid], usr_ft_map))\n",
    "\n",
    "    res.append([uid, profile, ft_spar, ft_dens, label])\n",
    "\n",
    "cate_num = len(item_ft_map[1])\n",
    "user_tl, item_sft, item_dft, item_ft_map, usr_ft_map = [], [], [], [], []\n",
    "\n",
    "# split train:va;:test = 4:5:1\n",
    "random.shuffle(res)\n",
    "num = len(res)\n",
    "train_list, val_list, test_list = res[: int(0.4 * num)], res[int(0.4 * num): int(0.9 * num)], res[int(0.9*num):]"
   ]
  },
  {
   "cell_type": "code",
   "execution_count": 1,
   "metadata": {},
   "outputs": [
    {
     "name": "stderr",
     "output_type": "stream",
     "text": [
      "2023-11-16 14:59:09.714362: I tensorflow/core/util/port.cc:111] oneDNN custom operations are on. You may see slightly different numerical results due to floating-point round-off errors from different computation orders. To turn them off, set the environment variable `TF_ENABLE_ONEDNN_OPTS=0`.\n",
      "2023-11-16 14:59:09.756233: E tensorflow/compiler/xla/stream_executor/cuda/cuda_dnn.cc:9342] Unable to register cuDNN factory: Attempting to register factory for plugin cuDNN when one has already been registered\n",
      "2023-11-16 14:59:09.756271: E tensorflow/compiler/xla/stream_executor/cuda/cuda_fft.cc:609] Unable to register cuFFT factory: Attempting to register factory for plugin cuFFT when one has already been registered\n",
      "2023-11-16 14:59:09.756293: E tensorflow/compiler/xla/stream_executor/cuda/cuda_blas.cc:1518] Unable to register cuBLAS factory: Attempting to register factory for plugin cuBLAS when one has already been registered\n",
      "2023-11-16 14:59:09.763137: I tensorflow/core/platform/cpu_feature_guard.cc:182] This TensorFlow binary is optimized to use available CPU instructions in performance-critical operations.\n",
      "To enable the following instructions: AVX2 AVX512F AVX512_VNNI FMA, in other operations, rebuild TensorFlow with the appropriate compiler flags.\n"
     ]
    },
    {
     "name": "stdout",
     "output_type": "stream",
     "text": [
      "[12 15 18]\n"
     ]
    },
    {
     "name": "stderr",
     "output_type": "stream",
     "text": [
      "2023-11-16 14:59:13.488329: I tensorflow/core/common_runtime/gpu/gpu_device.cc:1886] Created device /job:localhost/replica:0/task:0/device:GPU:0 with 146 MB memory:  -> device: 0, name: NVIDIA GeForce RTX 3090, pci bus id: 0000:1a:00.0, compute capability: 8.6\n",
      "2023-11-16 14:59:13.488957: I tensorflow/core/common_runtime/gpu/gpu_device.cc:1886] Created device /job:localhost/replica:0/task:0/device:GPU:1 with 146 MB memory:  -> device: 1, name: NVIDIA GeForce RTX 3090, pci bus id: 0000:3d:00.0, compute capability: 8.6\n",
      "2023-11-16 14:59:13.489531: I tensorflow/core/common_runtime/gpu/gpu_device.cc:1886] Created device /job:localhost/replica:0/task:0/device:GPU:2 with 22282 MB memory:  -> device: 2, name: NVIDIA GeForce RTX 3090, pci bus id: 0000:89:00.0, compute capability: 8.6\n"
     ]
    }
   ],
   "source": [
    "import tensorflow as tf\n",
    "\n",
    "matrix = tf.constant([[1, 2, 3],\n",
    "                     [4, 5, 6],\n",
    "                     [7, 8, 9]])\n",
    "sum_along_axis_0 = tf.reduce_sum(matrix, axis=0)\n",
    "print(sum_along_axis_0.numpy())\n",
    "\n"
   ]
  },
  {
   "cell_type": "code",
   "execution_count": 32,
   "metadata": {},
   "outputs": [
    {
     "data": {
      "text/plain": [
       "[258328,\n",
       " [[815857, 815871, 815867, 815872, 815861, 815862, 815863, 815877]],\n",
       " [[795364, 50451, 744468, 555634, 10],\n",
       "  [653849, 50451, 653850, 601190, 10],\n",
       "  [647506, 10517, 647507, 513129, 285587],\n",
       "  [316344, 1195, 316345, 316346, 196527],\n",
       "  [707918, 50451, 707919, 506913, 121135],\n",
       "  [601188, 50451, 601189, 601190, 10]],\n",
       " [[288.0], [286.0], [298.0], [179.0], [398.0], [238.0]],\n",
       " [1.0, 0.0, 0.0, 0.0, 0.0, 0.0]]"
      ]
     },
     "execution_count": 32,
     "metadata": {},
     "output_type": "execute_result"
    }
   ],
   "source": [
    "train_list[0]"
   ]
  },
  {
   "cell_type": "code",
   "execution_count": 3,
   "metadata": {},
   "outputs": [],
   "source": [
    "import torch\n",
    "loss = torch.nn.CrossEntropyLoss()\n",
    "input = torch.randn(3, 5, requires_grad=True)\n",
    "target = torch.empty(3, dtype=torch.long).random_(5)\n",
    "output = loss(input, target)\n",
    "# >>> output.backward()"
   ]
  },
  {
   "cell_type": "code",
   "execution_count": 6,
   "metadata": {},
   "outputs": [
    {
     "data": {
      "text/plain": [
       "tensor([1, 4, 2])"
      ]
     },
     "execution_count": 6,
     "metadata": {},
     "output_type": "execute_result"
    }
   ],
   "source": [
    "target"
   ]
  },
  {
   "cell_type": "code",
   "execution_count": 5,
   "metadata": {},
   "outputs": [
    {
     "data": {
      "text/plain": [
       "tensor([[ 1.6922, -1.0358,  0.0269, -0.2551, -0.0267],\n",
       "        [ 0.6068, -1.2827,  0.4204,  0.2397,  1.9741],\n",
       "        [ 0.2439,  1.8989, -0.2013,  0.2739, -1.2664]], requires_grad=True)"
      ]
     },
     "execution_count": 5,
     "metadata": {},
     "output_type": "execute_result"
    }
   ],
   "source": [
    "input"
   ]
  },
  {
   "cell_type": "code",
   "execution_count": 9,
   "metadata": {},
   "outputs": [
    {
     "name": "stdout",
     "output_type": "stream",
     "text": [
      "(1, 2, 2)\n"
     ]
    }
   ],
   "source": [
    "import numpy as np\n",
    "\n",
    "# Giả sử loss_numpy có hình dạng (a, b)\n",
    "loss_numpy = np.array([[1, 2], [3, 4]])\n",
    "\n",
    "# Lấy batch size\n",
    "batch_size = 32\n",
    "\n",
    "# Thêm chiều mới cho batch size\n",
    "loss_numpy = loss_numpy[np.newaxis, :, :]\n",
    "n_samples, n_mo_obj, n_mo_sol = loss_numpy.shape\n",
    "\n",
    "# Mở rộng chiều mới cho batch size\n",
    "# loss_numpy = np.tile(loss_numpy, [batch_size, 1, 1])\n",
    "\n",
    "print(loss_numpy.shape)\n"
   ]
  },
  {
   "cell_type": "code",
   "execution_count": 11,
   "metadata": {},
   "outputs": [
    {
     "data": {
      "text/plain": [
       "1"
      ]
     },
     "execution_count": 11,
     "metadata": {},
     "output_type": "execute_result"
    }
   ],
   "source": [
    "n_samples"
   ]
  }
 ],
 "metadata": {
  "kernelspec": {
   "display_name": "local-venv",
   "language": "python",
   "name": "local-venv"
  },
  "language_info": {
   "codemirror_mode": {
    "name": "ipython",
    "version": 3
   },
   "file_extension": ".py",
   "mimetype": "text/x-python",
   "name": "python",
   "nbconvert_exporter": "python",
   "pygments_lexer": "ipython3",
   "version": "3.9.12"
  }
 },
 "nbformat": 4,
 "nbformat_minor": 2
}
